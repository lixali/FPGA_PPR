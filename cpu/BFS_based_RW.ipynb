{
 "metadata": {
  "language_info": {
   "codemirror_mode": {
    "name": "ipython",
    "version": 3
   },
   "file_extension": ".py",
   "mimetype": "text/x-python",
   "name": "python",
   "nbconvert_exporter": "python",
   "pygments_lexer": "ipython3",
   "version": "3.6.8-final"
  },
  "orig_nbformat": 2,
  "kernelspec": {
   "name": "python36864bit779e5cb5f22446a483f46dc31ac1693c",
   "display_name": "Python 3.6.8 64-bit"
  }
 },
 "nbformat": 4,
 "nbformat_minor": 2,
 "cells": [
  {
   "cell_type": "code",
   "execution_count": 1,
   "metadata": {
    "tags": []
   },
   "outputs": [
    {
     "output_type": "stream",
     "name": "stdout",
     "text": "Loading graph from ./datasets-RW/cora_adj.txt\nGraph size: E = 10556, V = 2708\n"
    }
   ],
   "source": [
    "import re\n",
    "from Graph import *\n",
    "# import matplotlib\n",
    "# matplotlib.use('Agg')\n",
    "import matplotlib.pyplot as plt\n",
    "import numpy as np\n",
    "\n",
    "global_g = Load_Graph('./datasets-RW/cora_adj.txt')\n"
   ]
  },
  {
   "cell_type": "code",
   "execution_count": 4,
   "metadata": {
    "tags": []
   },
   "outputs": [
    {
     "output_type": "stream",
     "name": "stdout",
     "text": "ground_truth\n[1586, 885, 1088, 1402, 1654, 2464, 90, 1158, 1095, 1154, 1370, 259, 1531, 762, 341, 153, 44, 2435, 2241, 1444, 585, 2646, 2400, 2401, 1351, 964, 30, 376, 2402, 1241, 2436, 707, 1142, 2290, 2465, 2239, 806, 624, 2238, 790, 2240, 2466, 1208, 2237, 445, 516, 2295, 829, 1103, 276]\nNode: 1586\n{0: 200206, 4: 62244, 6: 48866, 1: 79902, 7: 45236, 2: 93616, 5: 54806, 3: 68912}\nNode: 885\n{0: 199278, 6: 28618, 2: 79248, 4: 42280, 7: 21740, 3: 17660, 5: 22324}\nNode: 1088\n{0: 199120, 7: 19176, 6: 29028, 2: 74962, 4: 41162, 5: 18258, 3: 12476}\nNode: 1402\n{7: 67668, 1: 95682, 6: 83110, 3: 88718, 5: 77236, 2: 145768, 0: 199962, 4: 106428}\nNode: 1654\n{7: 64352, 4: 103600, 5: 73034, 0: 200406, 6: 79254, 2: 142464, 3: 83124, 1: 99962}\nNode: 2464\n{1: 50322, 5: 46394, 0: 199468, 2: 101854, 4: 65134, 3: 52450, 6: 48392, 7: 40854}\nNode: 90\n{6: 125244, 1: 547172, 3: 279678, 4: 131234, 7: 140542, 5: 183398, 2: 112222}\nNode: 1158\n{0: 200816, 1: 49422, 4: 59646, 5: 44124, 3: 47660, 2: 86754, 6: 47646, 7: 39710}\nNode: 1095\n{2: 132696, 3: 82372, 5: 77642, 6: 79974, 0: 200278, 4: 97726, 7: 70378, 1: 68820}\nNode: 1154\n{2: 29606, 1: 67980, 3: 48566, 5: 36606, 6: 27076, 7: 29212, 4: 30402}\nNode: 1370\n{1: 113210, 3: 75306, 5: 53808, 7: 41514, 4: 37858, 6: 36748, 2: 31636}\nNode: 259\n{2: 138040, 0: 200436, 1: 73274, 6: 88776, 3: 88476, 7: 76134, 4: 107282, 5: 84182}\nNode: 1531\n{4: 82174, 0: 200030, 2: 122596, 6: 62330, 5: 45836, 3: 37848, 7: 45856}\nNode: 762\n{2: 23572, 7: 26518, 4: 26212, 6: 24846, 3: 36820, 5: 31708, 1: 40544}\nNode: 341\n{3: 33480, 5: 23848, 4: 21826, 2: 22428, 1: 50506, 7: 18940, 6: 18806}\nNode: 153\n{2: 26308, 5: 42612, 6: 36334, 1: 99576, 3: 58020, 7: 36030, 4: 36006}\nNode: 44\n{3: 84928, 4: 58466, 6: 58160, 5: 73654, 7: 64220, 1: 80238, 2: 51096}\nNode: 2435\n{7: 46900, 1: 99894, 4: 25212, 5: 52704, 3: 66206, 6: 35154, 2: 5934}\nNode: 2241\n{1: 90270, 6: 58312, 4: 57228, 5: 71224, 7: 64102, 2: 47352, 3: 79956}\nNode: 1444\n{6: 80476, 5: 75026, 2: 62226, 3: 66908, 7: 74446, 4: 79496, 1: 33640}\nNode: 585\n{2: 41104, 4: 38618, 6: 33954, 5: 36060, 7: 31250, 1: 49448, 3: 43108}\nNode: 2646\n{1: 28880, 3: 37982, 7: 37228, 4: 28356, 2: 14838, 5: 38714, 6: 32756}\nNode: 2400\n{4: 55108, 7: 41830, 2: 56332, 3: 28404, 5: 39282, 6: 50076}\nNode: 2401\n{5: 16318, 7: 16292, 6: 19896, 4: 21720, 3: 13188, 2: 19478}\nNode: 1351\n{7: 10118, 6: 9414, 4: 8424, 3: 7678, 5: 10006, 2: 4214}\nNode: 964\n{7: 137950, 5: 142974, 3: 140332, 1: 112138, 6: 130230, 2: 84960, 4: 118756}\nNode: 30\n{4: 16830, 2: 13498, 7: 15066, 6: 16924, 5: 13256, 3: 8124}\nNode: 376\n{5: 21814, 7: 26948, 6: 30802, 4: 30210, 2: 25940, 3: 12116}\nNode: 2402\n{4: 29952, 7: 26922, 6: 30530, 2: 25902, 3: 12044, 5: 22094}\nNode: 1241\n{5: 38026, 7: 38150, 4: 27870, 2: 14456, 6: 33280, 1: 28712, 3: 35646}\nNode: 2436\n{6: 11074, 7: 15316, 5: 14786, 3: 12880, 4: 6058}\nNode: 707\n{3: 15520, 6: 29820, 5: 24728, 7: 28340, 4: 26668, 2: 17760}\nNode: 1142\n{4: 8686, 6: 9754, 7: 8700, 5: 7374, 3: 4458, 2: 6020}\nNode: 2290\n{6: 15554, 7: 14964, 4: 15848, 2: 13208, 3: 11776, 5: 14474}\nNode: 2465\n{5: 42784, 7: 42264, 2: 10060, 4: 26898, 6: 35544, 1: 40408, 3: 44572}\nNode: 2239\n{2: 37596, 4: 39566, 5: 31650, 6: 41176, 7: 38368, 3: 19256}\nNode: 806\n{2: 5966, 3: 8292, 4: 12050, 6: 16426, 7: 17812, 5: 14158}\nNode: 624\n{3: 13476, 7: 19614, 5: 18228, 4: 18414, 2: 13246, 6: 19526}\nNode: 2238\n{4: 8474, 3: 5604, 5: 9968, 7: 11730, 6: 11286, 2: 4862}\nNode: 790\n{6: 7588, 2: 4608, 7: 7006, 3: 2746, 5: 5608, 4: 6764}\nNode: 2240\n{3: 3542, 7: 3746, 6: 2832, 4: 1694, 5: 3644}\nNode: 2466\n{7: 7018, 6: 7266, 3: 2080, 4: 5418, 2: 3282, 5: 4870}\nNode: 1208\n{6: 6906, 5: 4968, 7: 7114, 4: 5120, 2: 3370, 3: 2276}\nNode: 2237\n{3: 3228, 7: 10942, 5: 7492, 4: 6130, 6: 10160}\nNode: 445\n{6: 16584, 5: 14806, 7: 18938, 4: 11256, 3: 8592, 2: 3388}\nNode: 516\n{5: 10476, 6: 12774, 7: 14124, 2: 3412, 4: 8944, 3: 5338}\nNode: 2295\n{5: 4438, 7: 5004, 6: 3774, 4: 2268, 3: 2970}\nNode: 829\n{7: 6206, 2: 3406, 6: 6144, 4: 5066, 3: 1786, 5: 4544}\nNode: 1103\n{5: 8840, 6: 10098, 7: 12072, 4: 6730, 3: 4328, 2: 3536}\nNode: 276\n{5: 3936, 7: 5852, 3: 1402, 6: 4538, 4: 2272}\n"
    }
   ],
   "source": [
    "from Random_Walk import *\n",
    "import json\n",
    "\n",
    "seed_node_id = 90\n",
    "BFS_depth = 4\n",
    "top_c = 50\n",
    "max_length = 8\n",
    "alpha = 0.95\n",
    "\n",
    "\n",
    "Clear_Counter(global_g)\n",
    "Random_Walk_Seed_Local( global_g = global_g, sub_g = global_g, start_step = 0, seed_node_id = seed_node_id, \\\n",
    "                        top_c = top_c, alpha = alpha, max_length = max_length, max_itr_seed = 1000000 )\n",
    "ground_truth = Compute_Score_Rank( global_g, top_c, seed_node_id, alpha )\n",
    "print(\"ground_truth\")\n",
    "print(ground_truth)\n",
    "\n",
    "for node in ground_truth:\n",
    "    print(\"Node: %d\" % node)\n",
    "    print(global_g.nodes[node].counters)\n"
   ]
  },
  {
   "cell_type": "code",
   "execution_count": 39,
   "metadata": {
    "tags": []
   },
   "outputs": [
    {
     "output_type": "stream",
     "name": "stdout",
     "text": "=== Computing seed node 70\n-- First BFS with depth 2 length 2 --\nSub-graph size: V = 7, E = 22\nsimilarity: 0.14\nTop nodes:\n[1179, 2371, 70, 158, 100, 2370, 2508, 1, 629, 2, 159, 487, 1098, 2920, 2934, 3, 3286, 4, 1432, 3220, 5, 468, 6, 649, 7, 1502, 8, 1834, 2138, 9, 179, 1034, 10, 1008, 11, 1671, 2623, 12, 2035, 13, 114, 558, 678, 795, 840, 967, 1358, 1623, 1761, 2475]\nGround truth:\n[1179, 2371, 70, 158, 100, 2370, 2572, 2508, 1700, 1016, 2372, 2884, 905, 1331, 187, 1265, 2599, 566, 2521, 710, 1010, 865, 171, 137, 2784, 1425, 1988, 2507, 2875, 56, 2197, 451, 2444, 2985, 1045, 1276, 937, 1137, 3267, 2175, 1562, 1558, 2321, 2325, 1472, 2316, 1818, 1021, 1533, 621]\nMissing:\nnode 2572 (depth 3)\nnode 1700 (depth 3)\nnode 1016 (depth 3)\nnode 2372 (depth 3)\nnode 2884 (depth 3)\nnode 905 (depth 3)\nnode 1331 (depth 3)\nnode 187 (depth 3)\nnode 1265 (depth 3)\nnode 2599 (depth 3)\nnode 566 (depth 4)\nnode 2521 (depth 3)\nnode 710 (depth 3)\nnode 1010 (depth 3)\nnode 865 (depth 4)\nnode 171 (depth 4)\nnode 137 (depth 3)\nnode 2784 (depth 4)\nnode 1425 (depth 4)\nnode 1988 (depth 4)\nnode 2507 (depth 3)\nnode 2875 (depth 4)\nnode 56 (depth 4)\nnode 2197 (depth 3)\nnode 451 (depth 3)\nnode 2444 (depth 4)\nnode 2985 (depth 4)\nnode 1045 (depth 4)\nnode 1276 (depth 4)\nnode 937 (depth 4)\nnode 1137 (depth 4)\nnode 3267 (depth 4)\nnode 2175 (depth 4)\nnode 1562 (depth 4)\nnode 1558 (depth 4)\nnode 2321 (depth 4)\nnode 2325 (depth 4)\nnode 1472 (depth 4)\nnode 2316 (depth 4)\nnode 1818 (depth 4)\nnode 1021 (depth 4)\nnode 1533 (depth 4)\nnode 621 (depth 4)\n\nNode: 1179\n{1: 4479, 0: 13376}\nNode: 2371\n{0: 13226}\nNode: 70\n{1: 20054}\nNode: 158\n{0: 13398, 1: 6630}\nNode: 100\n{1: 2243}\nNode: 2370\n{1: 4406}\nNode: 2508\n{1: 2188}\nNode: 1\n{}\nNode: 629\n{}\nNode: 2\n{}\nNode: 159\n{}\nNode: 487\n{}\nNode: 1098\n{}\nNode: 2920\n{}\nNode: 2934\n{}\nNode: 3\n{}\nNode: 3286\n{}\nNode: 4\n{}\nNode: 1432\n{}\nNode: 3220\n{}\nNode: 5\n{}\nNode: 468\n{}\nNode: 6\n{}\nNode: 649\n{}\nNode: 7\n{}\nNode: 1502\n{}\nNode: 8\n{}\nNode: 1834\n{}\nNode: 2138\n{}\nNode: 9\n{}\nNode: 179\n{}\nNode: 1034\n{}\nNode: 10\n{}\nNode: 1008\n{}\nNode: 11\n{}\nNode: 1671\n{}\nNode: 2623\n{}\nNode: 12\n{}\nNode: 2035\n{}\nNode: 13\n{}\nNode: 114\n{}\nNode: 558\n{}\nNode: 678\n{}\nNode: 795\n{}\nNode: 840\n{}\nNode: 967\n{}\nNode: 1358\n{}\nNode: 1623\n{}\nNode: 1761\n{}\nNode: 2475\n{}\n"
    }
   ],
   "source": [
    "seed_node_id = 70\n",
    "BFS_depth = 2\n",
    "max_length = 2\n",
    "\n",
    "print(\"=== Computing seed node \" + str(seed_node_id))\n",
    "Clear_Counter(global_g)\n",
    "\n",
    "sub_g_full = BFS_Sub_Graph(global_g, seed_node_id, 6)\n",
    "\n",
    "\n",
    "# first level 2-depth BFS\n",
    "print(\"-- First BFS with depth %d length %d --\" % (BFS_depth, max_length))\n",
    "sub_g = BFS_Sub_Graph(global_g, seed_node_id, BFS_depth)\n",
    "print(\"Sub-graph size: V = %d, E = %d\" % (sub_g.node_cnt, sub_g.edge_cnt))\n",
    "\n",
    "Clear_Counter( sub_g )\n",
    "Random_Walk_Seed_Local( global_g = global_g, sub_g = sub_g, start_step = 0, seed_node_id = seed_node_id, \\\n",
    "                        top_c = top_c, alpha = alpha, max_length = max_length, max_itr_seed = 40000 )\n",
    "top_nodes_1st = Compute_Score_Rank( global_g, top_c, seed_node_id, alpha )\n",
    "\n",
    "similarity = get_same_ele_cnt( ground_truth, top_nodes_1st ) / top_c\n",
    "print(\"similarity: %.2f\" % (similarity))\n",
    "\n",
    "print(\"Top nodes:\")\n",
    "print(top_nodes_1st)\n",
    "print(\"Ground truth:\")\n",
    "print(ground_truth)\n",
    "\n",
    "\n",
    "print(\"Missing:\")\n",
    "for node in ground_truth:\n",
    "    if node not in top_nodes_1st:\n",
    "        print(\"node %d (depth %d)\" % (node, sub_g_full.nodes[node].depth))\n",
    "print(\"\")\n",
    "\n",
    "for node in top_nodes_1st:\n",
    "    print(\"Node: %d\" % node)\n",
    "    print(global_g.nodes[node].counters)\n"
   ]
  },
  {
   "cell_type": "code",
   "execution_count": 40,
   "metadata": {
    "tags": []
   },
   "outputs": [
    {
     "output_type": "stream",
     "name": "stdout",
     "text": "Node: 100 (depth 2)\n{1: 2243}\nNode: 2508 (depth 2)\n{1: 2188}\nNode: 2370 (depth 2)\n{1: 4406}\n3\n"
    }
   ],
   "source": [
    "\n",
    "\n",
    "### To continue with boundary nodes \n",
    "# collect boundary nodes\n",
    "boundary_nodes = []\n",
    "for node_id in sub_g.nodes:\n",
    "    node = sub_g.nodes[node_id]\n",
    "    if node.depth != 2:\n",
    "        continue\n",
    "    # if 2 not in node.counters:\n",
    "    #     continue\n",
    "    # if node.counters[3] < 5:\n",
    "    #     continue\n",
    "    boundary_nodes.append(node_id)\n",
    "    print(\"Node: %d (depth %d)\" % (node_id, node.depth))\n",
    "    print(node.counters)\n",
    "print(len(boundary_nodes))"
   ]
  },
  {
   "cell_type": "code",
   "execution_count": 41,
   "metadata": {
    "tags": []
   },
   "outputs": [
    {
     "output_type": "stream",
     "name": "stdout",
     "text": "-- Second BFS with depth 2 length 2 --\n=== Computing seed node 100 for 2243 iterations\nsimilarity: 0.26\n=== Computing seed node 2508 for 2188 iterations\nsimilarity: 0.62\n=== Computing seed node 2370 for 4406 iterations\nsimilarity: 0.94\n"
    }
   ],
   "source": [
    "\n",
    "\n",
    "# for node in top_nodes_1st:\n",
    "#     if global_g.nodes[node].counters:\n",
    "#         print(\"Node: \" + str(node), end=\" \")\n",
    "#         print(global_g.nodes[node].counters, end=\" \")\n",
    "#         print(global_g.nodes[node].s_u_a_score)\n",
    "\n",
    "# boundary_nodes = [25]\n",
    "\n",
    "print(\"-- Second BFS with depth %d length %d --\" % (BFS_depth, max_length))\n",
    "# select nodes to apply second BFS\n",
    "\n",
    "for seed_node_id in boundary_nodes:\n",
    "    itr_cnt = int(global_g.nodes[seed_node_id].counters[1])\n",
    "    print(\"=== Computing seed node %d for %d iterations\" % (seed_node_id, itr_cnt))\n",
    "    sub_g = BFS_Sub_Graph(global_g, seed_node_id, BFS_depth)\n",
    "    Clear_Counter( sub_g )\n",
    "    \n",
    "    Random_Walk_Seed_Local( global_g = global_g, sub_g = sub_g, start_step = BFS_depth, seed_node_id = seed_node_id, \\\n",
    "                        top_c = top_c, alpha = alpha, max_length = 2, max_itr_seed = itr_cnt )\n",
    "\n",
    "\n",
    "    # if 2 not in global_g.nodes[seed_node_id].counters:\n",
    "    #     continue\n",
    "    # itr_cnt = int(global_g.nodes[seed_node_id].counters[2])\n",
    "    # print(\"=== Computing seed node %d for %d iterations\" % (seed_node_id, itr_cnt))\n",
    "    # sub_g = BFS_Sub_Graph(global_g, seed_node_id, BFS_depth)\n",
    "    # Clear_Counter( sub_g )\n",
    "    \n",
    "    # Random_Walk_Seed_Local( global_g = global_g, sub_g = sub_g, start_step = BFS_depth+1, seed_node_id = seed_node_id, \\\n",
    "    #                     top_c = top_c, alpha = alpha, max_length = 2, max_itr_seed = itr_cnt )\n",
    "\n",
    "\n",
    "\n",
    "    top_nodes = Compute_Score_Rank( global_g, top_c, seed_node_id, alpha )\n",
    "    similarity = get_same_ele_cnt( ground_truth, top_nodes ) / top_c\n",
    "    print(\"similarity: %.2f\" % (similarity))\n",
    "\n",
    "\n",
    "\n",
    "\n",
    "\n"
   ]
  }
 ]
}